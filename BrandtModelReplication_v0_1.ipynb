{
  "cells": [
    {
      "cell_type": "markdown",
      "metadata": {
        "colab_type": "text",
        "id": "view-in-github"
      },
      "source": [
        "<a href=\"https://colab.research.google.com/github/tblackfd/Thesis/blob/main/BrandtModelReplication_v0_1.ipynb\" target=\"_parent\"><img src=\"https://colab.research.google.com/assets/colab-badge.svg\" alt=\"Open In Colab\"/></a>"
      ]
    },
    {
      "cell_type": "markdown",
      "metadata": {
        "id": "13DhQLFQ-7Nm"
      },
      "source": [
        "# Background\n",
        "This notebook intends to replicate the Lifecycle Assessment of geologic hydrogen produced by Brandt (2023) in order to perform a review of its methods and assumptions, as well as the conclusions published in the associated paper."
      ]
    },
    {
      "cell_type": "code",
      "execution_count": 27,
      "metadata": {
        "id": "dMeToeK2-pBa"
      },
      "outputs": [],
      "source": [
        "#Import relevant packages\n",
        "\n",
        "import pandas as pd\n",
        "import numpy as np\n",
        "import matplotlib as plt\n",
        "import math"
      ]
    },
    {
      "cell_type": "markdown",
      "metadata": {
        "id": "IzTnaQItthOc"
      },
      "source": [
        "# Input Data Specific to Geologic H2\n",
        "\n",
        "The following section establishes input data specific to the estimation of emissions from production of geologic hydrogen.\n",
        "\n",
        "Key assumptions are:\n",
        "* Well pressure calculated as depth (in ft) by a factor 0.42\n",
        "* Initial Baseline raw gas rate is given (23,100 MSCFD) and declines at a manually-defined rate.\n",
        "* Low pressure case is assumed to be 75% of baseline\n",
        "* High pressure case is assumed to be 125% of baseline\n",
        "* \"High productivity\" wellhead pressure is assumed to be 200% of baseline\n",
        "* \"Deep\" and \"Shallow\" pressures are calculated based on assumed depths of 12,000 and 1,500 ft, respectively."
      ]
    },
    {
      "cell_type": "markdown",
      "metadata": {
        "id": "0iCs7GWeMwNF"
      },
      "source": [
        "# Constants/Assumptions for Calculations"
      ]
    },
    {
      "cell_type": "code",
      "execution_count": 46,
      "metadata": {
        "id": "ZhKfQSyMM29g"
      },
      "outputs": [],
      "source": [
        "GWP_H2 = 5 #Global Warming Potential of H2, relative to CO2, to enable CO2e calculations. From Brandt OPGEE file: \"Low value from Derwent et al. 2020, of 5.0. High value of 10.9 from Warwick et al. 2022.\"\n",
        "GWP_CH4 = 25 #Global Warming Potential of methane. 100-year basis, IPCC 2007 AR4, per Brand OPGEE file.\n",
        "\n",
        "LHV_H2 = 113.958057395143 #mmbtu/tonne. OPGEE source listed as Mechanical engineer's handbook - Energy & Power (3rd edition). John Wiley & Sons. Chapter 17: Gaseous Fuels, Table 2\n",
        "LHV_CH4 = 47.5055187637969 #mmbtu/tonne\n",
        "\n",
        "#LHV Energy Densities for gases:\n",
        "data = {\n",
        "    'Gas': ['N2', 'O2', 'CO2', 'H2O', 'CH4', 'C2H6', 'C3H8', 'C4H10', 'CO', 'H2', 'H2S', 'SO2'],\n",
        "    'LHV (MJ/kg)': [\n",
        "        0.0000000000,  # LHV for N2, Ar\n",
        "        0.0000000000,  # LHV for O2\n",
        "        0.0000000000,  # LHV for CO2\n",
        "        0.0000000000,  # LHV for H2O\n",
        "        50.1206975717,  # LHV for CH4\n",
        "        47.5867143488,  # LHV for C2H6\n",
        "        46.4501483444,  # LHV for C3H8\n",
        "        45.8352847682,  # LHV for C4H10\n",
        "        10.1242877483,  # LHV for CO\n",
        "        120.2314484547,  # LHV for H2\n",
        "        15.2434928256,  # LHV for H2S\n",
        "        0.0000000000   # LHV for SO2\n",
        "    ]\n",
        "}\n",
        "# Create the DataFrame\n",
        "LHV_density_gases_metric = pd.DataFrame(data)\n",
        "# Set 'Gas' as the index instead of a column\n",
        "LHV_density_gases_metric.set_index('Gas', inplace=True)\n",
        "\n"
      ]
    },
    {
      "cell_type": "markdown",
      "metadata": {
        "id": "NuKxZ_i4T9xP"
      },
      "source": [
        "# Key Variables / Inputs"
      ]
    },
    {
      "cell_type": "code",
      "execution_count": 3,
      "metadata": {
        "id": "49xxMwlgT81D"
      },
      "outputs": [],
      "source": [
        "### Gas Densities. Define a dataframe:\n",
        "\n",
        "# Define the data as a dictionary\n",
        "data = {\n",
        "    'Gas': ['N2','CO2', 'CH4', 'H2'],\n",
        "    'Density tonne/MMSCF': [33.480353, 52.605153, 19.1738073, 2.4097248]\n",
        "}\n",
        "\n",
        "# Create the DataFrame\n",
        "gas_densities = pd.DataFrame(data)\n",
        "\n",
        "# Set 'Gas' as the index instead of a column\n",
        "gas_densities.set_index('Gas', inplace=True)\n",
        "\n",
        "#Assume all cases produce 0.1 bbl/day of oil:\n",
        "oil_production_baseline = 0.1 #bbl/day\n",
        "\n",
        "field_lifespan = 30 #years"
      ]
    },
    {
      "cell_type": "markdown",
      "metadata": {
        "id": "yosD7LLSZD6X"
      },
      "source": [
        "# Define/Assume Reservoir Conditions for Analysis"
      ]
    },
    {
      "cell_type": "code",
      "execution_count": 4,
      "metadata": {
        "id": "USYG_Gr6t1KA"
      },
      "outputs": [],
      "source": [
        "# Data for the Reservoir Conditions DataFrame\n",
        "reservoir_data = {\n",
        "    'Case': ['Baseline', 'Low Productivity', 'High Productivity', 'High CH4', 'Mixed', 'Low H2', 'Low H2 w/ CH4', 'Low H2 w/ N2', 'High H2', 'Deep', 'Shallow'],\n",
        "    'Raw Gas EUR, BCF': [67, 33, 167, 67, 67, 33, 67, 67, 67, 67, 33],\n",
        "    'H2 EUR, BCF': [57, 28, 142, 57, 57, 28, 57, 57, 57, 57, 28],\n",
        "    'Depth, ft': [6000, 6000, 6000, 6000, 6000, 6000, 6000, 6000, 6000, 12000, 1500],\n",
        "    'Initial Reservoir Pressure, psi': [2520, 2520, 2520, 2520, 2520, 2520, 2520, 2520, 2520, 5040, 630]\n",
        "}\n",
        "\n",
        "# Data for the Gas Composition DataFrame\n",
        "gas_composition_data = {\n",
        "    'Case': ['Baseline', 'Low Productivity', 'High Productivity', 'High CH4', 'Mixed', 'Low H2', 'Low H2 w/ CH4', 'Low H2 w/ N2', 'High H2', 'Deep', 'Shallow'],\n",
        "    'H2': [85.0, 85.0, 85.0, 85.0, 85.0, 75.0, 75.0, 75.0, 95.0, 85.0, 85.0],\n",
        "    'N2': [12.0, 12.0, 12.0, 1.5, 8.5, 20.0, 0.0, 22.5, 4.0, 12.0, 12.0],\n",
        "    'CH4': [1.5, 1.5, 1.5, 12.0, 5.0, 2.5, 22.5, 0.0, 0.5, 1.5, 1.5],\n",
        "    'C2+': [0.0] * 11,\n",
        "    'CO2': [0.0] * 11,\n",
        "    'Ar/oth inert': [1.5, 1.5, 1.5, 1.5, 1.5, 2.5, 2.5, 2.5, 0.5, 1.5, 1.5]\n",
        "}\n",
        "\n",
        "# Data for the Development Parameters DataFrame\n",
        "development_params_data = {\n",
        "    'Case': ['Baseline', 'Low Productivity', 'High Productivity', 'High CH4', 'Mixed', 'Low H2', 'Low H2 w/ CH4', 'Low H2 w/ N2', 'High H2', 'Deep', 'Shallow'],\n",
        "    'Total Producing Wells': [50] * 11,\n",
        "    'No. of Compressors': [2] * 11,\n",
        "    'No. of Purification Plants': [1] * 11,\n",
        "    'Water Cut (bbl/mmscf)': [1] * 11,\n",
        "    'H2 purification loss rate': [10] * 11,\n",
        "    'BCF per well': [1.3, 0.33, 2.0, 1.0, 1.3, 1.3, 1.3, 1.3, 1.3, 1.3, 1.0]\n",
        "}\n",
        "\n",
        "# Creating the DataFrames & setting 'Case' as the index to make slicing based on Case easier\n",
        "reservoir_df = pd.DataFrame(reservoir_data)\n",
        "reservoir_df.set_index('Case', inplace=True)\n",
        "\n",
        "gas_composition_df = pd.DataFrame(gas_composition_data)\n",
        "gas_composition_df.set_index('Case', inplace=True)\n",
        "\n",
        "development_params_df = pd.DataFrame(development_params_data)\n",
        "development_params_df.set_index('Case', inplace=True)\n",
        "\n",
        "# # Display the DataFrames (Optional)\n",
        "# print(\"Reservoir Conditions DataFrame:\")\n",
        "# print(reservoir_df)\n",
        "# print(\"\\nGas Composition DataFrame:\")\n",
        "# print(gas_composition_df)\n",
        "# print(\"\\nDevelopment Parameters DataFrame:\")\n",
        "# print(development_params_df)\n"
      ]
    },
    {
      "cell_type": "code",
      "execution_count": null,
      "metadata": {
        "id": "wkywrWb1zT0z"
      },
      "outputs": [],
      "source": [
        "\n"
      ]
    },
    {
      "cell_type": "code",
      "execution_count": 5,
      "metadata": {
        "colab": {
          "base_uri": "https://localhost:8080/",
          "height": 238
        },
        "id": "NQI_ohhRwAe3",
        "outputId": "713a915c-e790-4965-a73a-8afe5a1d2f2b"
      },
      "outputs": [
        {
          "name": "stderr",
          "output_type": "stream",
          "text": [
            "/var/folders/qy/z7337b5132l170hg74tn22yw0000gn/T/ipykernel_22627/349184173.py:32: FutureWarning: Setting an item of incompatible dtype is deprecated and will raise in a future error of pandas. Value '16169.999999999998' has dtype incompatible with int64, please explicitly cast to a compatible dtype first.\n",
            "  df.loc[year, 'Baseline Raw Gas Rate, MSCFD'] = df.loc[year - 1, 'Baseline Raw Gas Rate, MSCFD'] * (1 - rate_decline_factors[year-1])\n"
          ]
        },
        {
          "data": {
            "text/html": [
              "<div>\n",
              "<style scoped>\n",
              "    .dataframe tbody tr th:only-of-type {\n",
              "        vertical-align: middle;\n",
              "    }\n",
              "\n",
              "    .dataframe tbody tr th {\n",
              "        vertical-align: top;\n",
              "    }\n",
              "\n",
              "    .dataframe thead th {\n",
              "        text-align: right;\n",
              "    }\n",
              "</style>\n",
              "<table border=\"1\" class=\"dataframe\">\n",
              "  <thead>\n",
              "    <tr style=\"text-align: right;\">\n",
              "      <th></th>\n",
              "      <th>Year</th>\n",
              "      <th>Baseline Raw Gas Rate, MSCFD</th>\n",
              "      <th>Baseline Wellhead Pressure, PSI</th>\n",
              "      <th>Deep Pressure, PSI</th>\n",
              "      <th>Shallow Pressure, PSI</th>\n",
              "      <th>Low Pressure Wellhead Pressure, PSI</th>\n",
              "      <th>High Pressure Wellhead Pressure, PSI</th>\n",
              "      <th>Low Productivity Raw Gas Rate, MSCFD</th>\n",
              "      <th>High Productivity Raw Gas Rate, MSCFD</th>\n",
              "      <th>Baseline GOR, SCF/BBL</th>\n",
              "    </tr>\n",
              "  </thead>\n",
              "  <tbody>\n",
              "    <tr>\n",
              "      <th>0</th>\n",
              "      <td>1</td>\n",
              "      <td>23100.00</td>\n",
              "      <td>2520.00000</td>\n",
              "      <td>5160.00000</td>\n",
              "      <td>645.000000</td>\n",
              "      <td>1890.000000</td>\n",
              "      <td>3150.000000</td>\n",
              "      <td>5775.0000</td>\n",
              "      <td>46200.0</td>\n",
              "      <td>231000000.0</td>\n",
              "    </tr>\n",
              "    <tr>\n",
              "      <th>1</th>\n",
              "      <td>2</td>\n",
              "      <td>16170.00</td>\n",
              "      <td>2394.00000</td>\n",
              "      <td>4902.00000</td>\n",
              "      <td>612.750000</td>\n",
              "      <td>1795.500000</td>\n",
              "      <td>2992.500000</td>\n",
              "      <td>4042.5000</td>\n",
              "      <td>32340.0</td>\n",
              "      <td>161700000.0</td>\n",
              "    </tr>\n",
              "    <tr>\n",
              "      <th>2</th>\n",
              "      <td>3</td>\n",
              "      <td>12936.00</td>\n",
              "      <td>2274.30000</td>\n",
              "      <td>4656.90000</td>\n",
              "      <td>582.112500</td>\n",
              "      <td>1705.725000</td>\n",
              "      <td>2842.875000</td>\n",
              "      <td>3234.0000</td>\n",
              "      <td>25872.0</td>\n",
              "      <td>129360000.0</td>\n",
              "    </tr>\n",
              "    <tr>\n",
              "      <th>3</th>\n",
              "      <td>4</td>\n",
              "      <td>10995.60</td>\n",
              "      <td>2160.58500</td>\n",
              "      <td>4424.05500</td>\n",
              "      <td>553.006875</td>\n",
              "      <td>1620.438750</td>\n",
              "      <td>2700.731250</td>\n",
              "      <td>2748.9000</td>\n",
              "      <td>21991.2</td>\n",
              "      <td>109956000.0</td>\n",
              "    </tr>\n",
              "    <tr>\n",
              "      <th>4</th>\n",
              "      <td>5</td>\n",
              "      <td>9621.15</td>\n",
              "      <td>2052.55575</td>\n",
              "      <td>4202.85225</td>\n",
              "      <td>525.356531</td>\n",
              "      <td>1539.416812</td>\n",
              "      <td>2565.694687</td>\n",
              "      <td>2405.2875</td>\n",
              "      <td>19242.3</td>\n",
              "      <td>96211500.0</td>\n",
              "    </tr>\n",
              "  </tbody>\n",
              "</table>\n",
              "</div>"
            ],
            "text/plain": [
              "   Year  Baseline Raw Gas Rate, MSCFD  Baseline Wellhead Pressure, PSI  \\\n",
              "0     1                      23100.00                       2520.00000   \n",
              "1     2                      16170.00                       2394.00000   \n",
              "2     3                      12936.00                       2274.30000   \n",
              "3     4                      10995.60                       2160.58500   \n",
              "4     5                       9621.15                       2052.55575   \n",
              "\n",
              "   Deep Pressure, PSI  Shallow Pressure, PSI  \\\n",
              "0          5160.00000             645.000000   \n",
              "1          4902.00000             612.750000   \n",
              "2          4656.90000             582.112500   \n",
              "3          4424.05500             553.006875   \n",
              "4          4202.85225             525.356531   \n",
              "\n",
              "   Low Pressure Wellhead Pressure, PSI  High Pressure Wellhead Pressure, PSI  \\\n",
              "0                          1890.000000                           3150.000000   \n",
              "1                          1795.500000                           2992.500000   \n",
              "2                          1705.725000                           2842.875000   \n",
              "3                          1620.438750                           2700.731250   \n",
              "4                          1539.416812                           2565.694687   \n",
              "\n",
              "   Low Productivity Raw Gas Rate, MSCFD  \\\n",
              "0                             5775.0000   \n",
              "1                             4042.5000   \n",
              "2                             3234.0000   \n",
              "3                             2748.9000   \n",
              "4                             2405.2875   \n",
              "\n",
              "   High Productivity Raw Gas Rate, MSCFD  Baseline GOR, SCF/BBL  \n",
              "0                                46200.0            231000000.0  \n",
              "1                                32340.0            161700000.0  \n",
              "2                                25872.0            129360000.0  \n",
              "3                                21991.2            109956000.0  \n",
              "4                                19242.3             96211500.0  "
            ]
          },
          "execution_count": 5,
          "metadata": {},
          "output_type": "execute_result"
        }
      ],
      "source": [
        "#Now define the assumed production profile over the life of each well\n",
        "\n",
        "# Constants\n",
        "pressure_coefficient = 0.42\n",
        "pressure_decline_rate = 0.95\n",
        "rate_decline_factors = np.array([\n",
        "    0.3, 0.2, 0.15, 0.125, 0.125, 0.1, 0.1, 0.09, 0.08, 0.07,\n",
        "    0.07, 0.06, 0.05, 0.04, 0.04, 0.03, 0.03, 0.03, 0.03, 0.03,\n",
        "    0.03, 0.02, 0.02, 0.03, 0.02, 0.02, 0.02, 0.02, 0.02\n",
        "])\n",
        "rate_decline_factors = rate_decline_factors[:30]  # Ensure it has exactly 30 elements\n",
        "\n",
        "# Extract depths for Baseline, Deep, and Shallow from the reservoir_df\n",
        "depths = reservoir_df['Depth, ft']\n",
        "\n",
        "# Initial values calculated by depth\n",
        "initial_wellhead_pressure_baseline = depths['Baseline'] * pressure_coefficient\n",
        "initial_deep_pressure = depths['Deep'] * 0.43\n",
        "initial_shallow_pressure = depths['Shallow'] * 0.43\n",
        "\n",
        "# DataFrame initialization\n",
        "df = pd.DataFrame({\n",
        "    'Year': range(1, 31),\n",
        "    'Baseline Raw Gas Rate, MSCFD': [23100] * 30,  # Baseline raw gas rate\n",
        "    'Baseline Wellhead Pressure, PSI': [initial_wellhead_pressure_baseline] * 30,\n",
        "    'Deep Pressure, PSI': [initial_deep_pressure] * 30,\n",
        "    'Shallow Pressure, PSI': [initial_shallow_pressure] * 30\n",
        "})\n",
        "\n",
        "# Calculate the baseline raw gas rate and wellhead pressure for each year\n",
        "for year in range(1, 30):  # Skip the first year as the initial values are already set\n",
        "    df.loc[year, 'Baseline Raw Gas Rate, MSCFD'] = df.loc[year - 1, 'Baseline Raw Gas Rate, MSCFD'] * (1 - rate_decline_factors[year-1])\n",
        "    df.loc[year, 'Baseline Wellhead Pressure, PSI'] = df.loc[year - 1, 'Baseline Wellhead Pressure, PSI'] * pressure_decline_rate\n",
        "    df.loc[year, 'Deep Pressure, PSI'] = df.loc[year - 1, 'Deep Pressure, PSI'] * pressure_decline_rate\n",
        "    df.loc[year, 'Shallow Pressure, PSI'] = df.loc[year - 1, 'Shallow Pressure, PSI'] * pressure_decline_rate\n",
        "\n",
        "# Update other pressures based on the baseline wellhead pressure\n",
        "df['Low Pressure Wellhead Pressure, PSI'] = df['Baseline Wellhead Pressure, PSI'] * 0.75\n",
        "df['High Pressure Wellhead Pressure, PSI'] = df['Baseline Wellhead Pressure, PSI'] * 1.25\n",
        "\n",
        "# Update the low and high productivity raw gas rate values\n",
        "df['Low Productivity Raw Gas Rate, MSCFD'] = df['Baseline Raw Gas Rate, MSCFD'] * 0.25\n",
        "df['High Productivity Raw Gas Rate, MSCFD'] = df['Baseline Raw Gas Rate, MSCFD'] * 2\n",
        "\n",
        "# Calculate the baseline Gas Oil Ratio (GOR)\n",
        "df['Baseline GOR, SCF/BBL'] = df['Baseline Raw Gas Rate, MSCFD'] * 1000 / oil_production_baseline\n",
        "\n",
        "# Print the DataFrame\n",
        "df.head()"
      ]
    },
    {
      "cell_type": "markdown",
      "metadata": {
        "id": "fWRZ7I0nnxcl"
      },
      "source": [
        "# Sources of Emissions per Brandt Paper:\n",
        "Brandt's paper considers that following categories of emissions contribute to the total emissions associated with a geologic hydrogen development:\n",
        "\n",
        "1.  Operational Combustion\n",
        "1.  Operational Venting, Flaring and Fugitive Emissions (VFF)\n",
        "1.  Drilling energy-use and VFF\n",
        "1.  Emissions embodied in wellbore construction materials and surface equipment\n",
        "1.  \"Other\" offsite emissions\n",
        "1.  \"Small sources\" of emissions, not significant enough to be modelled individually but included as course, aggregated estimates.\n",
        "\n",
        "The following sections will consider each of these emissions categories and replicate the accounting for these sources.\n",
        "\n",
        "\n",
        "\n",
        "\n",
        "\n"
      ]
    },
    {
      "cell_type": "markdown",
      "metadata": {
        "id": "5XmHyGMto7CG"
      },
      "source": [
        "# 1: Operational Combustion Emissions (kg CO2e/d)\n",
        "\n",
        "Total operational combustion emissions are those associated with combustion during operation. These are only relevant in certain cases. In the baseline case, it is assumed that a portion of the produced H2 is used to provide power for compression (both upstream of gas treatment and upstream of waste gas re-injection), dehydration, and pressure-swing adsorption (PSA) separation.\n",
        "\n",
        "Hydrogen combustion is assumed to have no CO2e emissions, so the baseline case has 0 Operational Combustion Emissions.\n",
        "\n",
        "Other cases (e.g. high CH4 fields, where the CH4 is \"self used\" for the processes listed above) will have Operational Combustion Emissions. These will be assessed after replicating the baseline conditions."
      ]
    },
    {
      "cell_type": "code",
      "execution_count": 6,
      "metadata": {
        "id": "t89Vs_NBrdwI"
      },
      "outputs": [],
      "source": [
        "baseline_operational_combustion_emissions = 0 #kg CO2e/d"
      ]
    },
    {
      "cell_type": "markdown",
      "metadata": {
        "id": "bw3SQN8irpBN"
      },
      "source": [
        "# 2: Operational Venting, Flaring and Fugitive Emissions (VFF)\n",
        "\n",
        "Brandt paper: \"VFF emissions include all purposeful (vented) and un-purposeful (fugitive) emissions from process units and piping.\"\n",
        "\n",
        "Each of sub-category (i.e. venting, flaring, or fugitive) is calculated individually, per each of the following process stages:\n",
        "\n",
        "1.   Production & Extraction\n",
        "2.   Surface Processing\n",
        "\n",
        "The following two sub-categories are associated with VFF-type emissions, however these are separated out into a separate section. See Section 3, below.\n",
        "\n",
        "3.   Exploration\n",
        "4.   Drilling & Development\n",
        "\n",
        "The following sub-categories are included in the full OPGEE analysis model, but are not considered relevant to geologic H2 production:\n",
        "\n",
        "5.   Liquefied Natural Gas\n",
        "6.   Maintenance\n",
        "7.   Waste disposal\n",
        "8.   Crude oil transport and storage\n",
        "9.   Other Gas transport, storage, and distribution\n",
        "10.  Electricity generation\n",
        "\n",
        "Note also that the baseline case does not include any flaring, so it is sufficient to only consider Venting and Fugitive emissions for this specific case.\n",
        "\n",
        "The following sections detail Venting and Flaring calculations for each of the relevant items above (i.e. Exploration and Drilling & Development).\n",
        "\n"
      ]
    },
    {
      "cell_type": "markdown",
      "metadata": {
        "id": "dqJ_asryw4Qn"
      },
      "source": [
        "### 2.1.1 Production & Extraction Venting\n",
        "\n",
        "The OPGEE tool considers the following potential sources of vented emissions.\n",
        "\n",
        "![image.png](data:image/png;base64,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)\n",
        "\n",
        "Of these, Brandt's baseline case shows emissions from the \"Well and downhole pump\", \"HC gas reinjection compressor\", \"HC gas injection wells\", and \"Separation\" process stages. Thus, these calculations are replicated below.\n",
        "\n",
        "The basis of this calculation is to take the weighted sum (in terms of Global Warming Potential, i.e. ensuring CO2-equivalence) of emissions in each component associated with the \"well & downhole pump\" part of the system. These components are:\n",
        "\n",
        "\n",
        "* Fugitives - Completions\n",
        " * 0.005%\n",
        " * $M$119\n",
        " * OPGEE labels this as fugitive, but logic actually classifies these emissions as vents\n",
        " * \"Total gas lost during completions divided by gas production\"\n",
        " * OPGEE uses a database of tonnes of fugitive emissions per activity in terms of CO2 and CH4. For Geologic H2, Brandt assumes that total mass of emissions per activity are consistent with the database values, but that the composition of the emissions are aligned with the assumptions regarding the reservoir composition (i.e. high H2, low CH4 and CO2).\n",
        "* Fugitives - Workovers\n",
        " * \"Total gas lost during workovers divided by gas production\"\n",
        " * 0.0048%\n",
        " * $M$124\n",
        " * Assumes total gas for all workovers over field life and then calculates a loss rate as this total divided by total gas production. Loss is apportioned per reservoir composition.\n",
        "* Pneumatic controllers\n",
        " * 0.0000%\n",
        " * $M$108\n",
        " * Loss rate calculated in same manner as wellhead, above.\n",
        "* Liquids unloadings\n",
        " * * 0.1145%\n",
        " * $M$114\n",
        " * ???\n",
        " * This loss rate is dependent on gas rate, so needs to be calculated for each year of field life.\n",
        "* On-site tanks - vents\n",
        " * 0.000% - No tanks in design.\n",
        " * $M$110\n",
        "\n"
      ]
    },
    {
      "cell_type": "code",
      "execution_count": 7,
      "metadata": {
        "id": "H95VKk9puIns"
      },
      "outputs": [],
      "source": [
        "#First consider venting associated with completions. Calculate CH4 and H2 separately, then calculate their sum.\n",
        "production_vent_completions_CH4 = 0.005/100 * GWP_CH4 * gas_composition_df.loc['Baseline', 'CH4']/100 * oil_production_baseline * df['Baseline GOR, SCF/BBL']/1E6 *gas_densities.loc['CH4','Density tonne/MMSCF'] #Loss Rate * GWP * Oil Rate * GOR * Density\n",
        "\n",
        "production_vent_completions_H2 = 0.005/100 * GWP_H2 * gas_composition_df.loc['Baseline', 'H2']/100 * oil_production_baseline * df['Baseline GOR, SCF/BBL']/1E6 *gas_densities.loc['H2','Density tonne/MMSCF'] #Loss Rate * GWP * Oil Rate * GOR * Density\n",
        "\n",
        "production_vent_completions = production_vent_completions_CH4 + production_vent_completions_H2 #This gives a series of 30 results. i.e. per year of field life.\n",
        "\n",
        "#Now consider venting associated with workovers. Logic identical to above, but with a slightly different loss rate of 0.0048%\n",
        "production_vent_workovers_CH4 = 0.0048/100 * GWP_CH4 * gas_composition_df.loc['Baseline', 'CH4']/100 * oil_production_baseline * df['Baseline GOR, SCF/BBL']/1E6 *gas_densities.loc['CH4','Density tonne/MMSCF'] #Loss Rate * GWP * Oil Rate * GOR * Density\n",
        "\n",
        "production_vent_workovers_H2 = 0.0048/100 * GWP_H2 * gas_composition_df.loc['Baseline', 'H2']/100 * oil_production_baseline * df['Baseline GOR, SCF/BBL']/1E6 *gas_densities.loc['H2','Density tonne/MMSCF'] #Loss Rate * GWP * Oil Rate * GOR * Density\n",
        "\n",
        "production_vent_workovers = production_vent_workovers_CH4 + production_vent_workovers_H2\n",
        "\n",
        "#Now looking at the vents associated with Liquids Unloadings:\n",
        "\n",
        "#Liquids unloadings vary according to rate of production from the field, so baseline loss rates have been extracted from Brandt's model for each year of field life:\n",
        "\n",
        "liquids_unloadings_percentages = [\n",
        "    0.022286, 0.035370, 0.045185, 0.045185, 0.047776, 0.069842, 0.075147, 0.075147, 0.075147,\n",
        "    0.075147, 0.075147, 0.075147, 0.075147, 0.075147, 0.093191, 0.103238, 0.103238, 0.103238,\n",
        "    0.103238, 0.114288, 0.114288, 0.114288, 0.114288, 0.114288, 0.114288, 0.114498, 0.114498,\n",
        "    0.114498, 0.114498, 0.114498\n",
        "]\n",
        "\n",
        "# Create the DataFrame\n",
        "df_liquids_unloadings = pd.DataFrame({\n",
        "    'Year': range(1, 31),\n",
        "    'Liquids Unloadings %': liquids_unloadings_percentages\n",
        "})\n",
        "\n",
        "production_vent_liquids_CH4 = df_liquids_unloadings['Liquids Unloadings %']/100 * GWP_CH4 * gas_composition_df.loc['Baseline', 'CH4']/100 * oil_production_baseline * df['Baseline GOR, SCF/BBL']/1E6 *gas_densities.loc['CH4','Density tonne/MMSCF'] #Loss Rate * GWP * Oil Rate * GOR * Density\n",
        "production_vent_liquids_H2 = df_liquids_unloadings['Liquids Unloadings %']/100 * GWP_H2 * gas_composition_df.loc['Baseline', 'H2']/100 * oil_production_baseline * df['Baseline GOR, SCF/BBL']/1E6 *gas_densities.loc['H2','Density tonne/MMSCF'] #Loss Rate * GWP * Oil Rate * GOR * Density\n",
        "\n",
        "production_vent_liquids = production_vent_liquids_CH4 + production_vent_liquids_H2\n",
        "\n",
        "# print(production_vent_liquids)"
      ]
    },
    {
      "cell_type": "markdown",
      "metadata": {
        "id": "9lc11_YrxAR5"
      },
      "source": [
        "### 2.1.2 Production & Extraction Fugitive\n",
        "\n",
        "* Fugitives - Wellhead\n",
        " * 0.2754%\n",
        " *M99\n",
        " * Calculated as fractional loss rate. This loss rate is calculated as the average of emissions of this component under different flowrates (divided into 10 \"tranches\"), weighted against the relative volume of gas produced in each flowrate tranche.\n",
        "* On-site meter\n",
        " * 0.1983%\n",
        " * $M$102\n",
        " * Loss rate calculated in same manner as wellhead, above.\n",
        "* On-site dehydrator\n",
        " * 0.0103%\n",
        " * $M$103\n",
        " * Loss rate calculated in same manner as wellhead, above.\n",
        "* On-site reciprocating compressor\n",
        " * 0.0338%\n",
        " * $M$104\n",
        " * Loss rate calculated in same manner as wellhead, above.\n",
        "* On-site heater\n",
        " * 0.0168%\n",
        " * $M$105\n",
        " * Loss rate calculated in same manner as wellhead, above.\n",
        "* On-site header\n",
        " * 0.0000%\n",
        " * $M$106\n",
        " * Loss rate calculated in same manner as wellhead, above.\n",
        "* Chemical injection pumps\n",
        " * 0.0944%\n",
        " * $M$107\n",
        " * Loss rate calculated in same manner as wellhead, above.\n",
        "* On-site tanks - leaks\n",
        " * 0.000% - No tanks in design.\n",
        " * $M$109\n",
        "\n",
        "\n",
        "\n",
        "\n"
      ]
    },
    {
      "cell_type": "code",
      "execution_count": 36,
      "metadata": {
        "colab": {
          "base_uri": "https://localhost:8080/"
        },
        "id": "5u_QJ5Q6uE2F",
        "outputId": "fcc4c029-7c7c-4283-acac-eb9bffc55ce3"
      },
      "outputs": [],
      "source": [
        "#Brandt's model shows that the loss rate at the well head increases as production decreases. These rates are extracted from Brandt's model as follows:\n",
        "\n",
        "#Loss rates for this section are all based on flow rates downstream of the separator, so first calculate these rates. Create variables for all gases (CH4, H2, N2, CO2) downstream of the separator\n",
        "#because these are required later, even if they are not considered for vented/fugitive emissions.\n",
        "\n",
        "CH4_after_separator = (\n",
        "    gas_composition_df.loc['Baseline', 'CH4'] / 100 *\n",
        "    oil_production_baseline *\n",
        "    df['Baseline GOR, SCF/BBL'] / 1E6 *\n",
        "    gas_densities.loc['CH4', 'Density tonne/MMSCF']\n",
        ")\n",
        "H2_after_separator = (\n",
        "    gas_composition_df.loc['Baseline', 'H2'] / 100 *\n",
        "    oil_production_baseline *\n",
        "    df['Baseline GOR, SCF/BBL'] / 1E6 *\n",
        "    gas_densities.loc['H2', 'Density tonne/MMSCF']\n",
        ")\n",
        "N2_after_separator = (\n",
        "    gas_composition_df.loc['Baseline', 'N2'] / 100 *\n",
        "    oil_production_baseline *\n",
        "    df['Baseline GOR, SCF/BBL'] / 1E6 *\n",
        "    gas_densities.loc['N2', 'Density tonne/MMSCF']\n",
        ")\n",
        "CO2_after_separator = (\n",
        "    gas_composition_df.loc['Baseline', 'CO2'] / 100 *\n",
        "    oil_production_baseline *\n",
        "    df['Baseline GOR, SCF/BBL'] / 1E6 *\n",
        "    gas_densities.loc['CO2', 'Density tonne/MMSCF']\n",
        ")\n",
        "\n",
        "wellhead_fugitive_loss_rates = [\n",
        "    0.073042, 0.102432, 0.130786, 0.130786, 0.134990, 0.179778, 0.195050, 0.195050, 0.195050,\n",
        "    0.195050, 0.195050, 0.195050, 0.195050, 0.195050, 0.220065, 0.244452, 0.244452, 0.244452,\n",
        "    0.244452, 0.274038, 0.274038, 0.274038, 0.274038, 0.274038, 0.274038, 0.274519, 0.274519,\n",
        "    0.274519, 0.274519, 0.274519\n",
        "]\n",
        "\n",
        "# Create the DataFrame\n",
        "df_wellhead_fugitive_loss_rates = pd.DataFrame({\n",
        "    'Year': range(1, 31),\n",
        "    'Wellhead Fugitive Losses %': wellhead_fugitive_loss_rates\n",
        "})\n",
        "\n",
        "production_fugitive_wellhead_CH4 = df_wellhead_fugitive_loss_rates['Wellhead Fugitive Losses %']/100 * GWP_CH4 * CH4_after_separator #Loss Rate * GWP * gas rate\n",
        "production_fugitive_wellhead_H2 = df_wellhead_fugitive_loss_rates['Wellhead Fugitive Losses %']/100 * GWP_H2 * H2_after_separator #Loss Rate * GWP * gas rate\n",
        "production_fugitive_wellhead = production_fugitive_wellhead_CH4 + production_fugitive_wellhead_H2\n",
        "\n",
        "### Now looking at the meter fugitive losses, which also change over the life of the field:\n",
        "\n",
        "# Meter fugitive loss rates extracted from Brandt's model\n",
        "meter_fugitive_loss_rates = [\n",
        "    0.045713, 0.063821, 0.085305, 0.085305, 0.090005, 0.117416, 0.127744, 0.127744, 0.127744,\n",
        "    0.127744, 0.127744, 0.127744, 0.127744, 0.127744, 0.152734, 0.164370, 0.164370, 0.164370,\n",
        "    0.164370, 0.197726, 0.197726, 0.197726, 0.197726, 0.197726, 0.197726, 0.198287, 0.198287,\n",
        "    0.198287, 0.198287, 0.198287\n",
        "]\n",
        "\n",
        "# Create the DataFrame for meter fugitive losses\n",
        "df_meter_fugitive_losses = pd.DataFrame({\n",
        "    'Year': range(1, 31),\n",
        "    'Meter Fugitive Losses %': meter_fugitive_loss_rates\n",
        "})\n",
        "\n",
        "production_fugitive_meter_CH4 = df_meter_fugitive_losses['Meter Fugitive Losses %'] / 100 * GWP_CH4 * CH4_after_separator #Loss Rate * GWP * gas rate\n",
        "production_fugitive_meter_H2 = df_meter_fugitive_losses['Meter Fugitive Losses %'] / 100 * GWP_H2 * H2_after_separator #Loss Rate * GWP * gas rate\n",
        "production_fugitive_meter = production_fugitive_meter_CH4 + production_fugitive_meter_H2\n",
        "\n",
        "### Dehydrator fugitive loss rates\n",
        "dehydrator_fugitive_loss_rates = [\n",
        "    0.001652, 0.002315, 0.003324, 0.003324, 0.003659, 0.004127, 0.005150, 0.005150, 0.005150,\n",
        "    0.005150, 0.005150, 0.005150, 0.005150, 0.005150, 0.005773, 0.006185, 0.006185, 0.006185,\n",
        "    0.006185, 0.010305, 0.010305, 0.010305, 0.010305, 0.010305, 0.010305, 0.010315, 0.010315,\n",
        "    0.010315, 0.010315, 0.010315\n",
        "]\n",
        "\n",
        "# Create the DataFrame for dehydrator fugitive losses\n",
        "df_dehydrator_fugitive_losses = pd.DataFrame({\n",
        "    'Year': range(1, len(dehydrator_fugitive_loss_rates) + 1),\n",
        "    'Dehydrator Fugitive Losses %': dehydrator_fugitive_loss_rates\n",
        "})\n",
        "\n",
        "# Calculate the CH4 and H2 components of fugitive emissions from dehydrators\n",
        "production_fugitive_dehydrator_CH4 = df_dehydrator_fugitive_losses['Dehydrator Fugitive Losses %'] / 100 * GWP_CH4 * CH4_after_separator #Loss Rate * GWP * gas rate\n",
        "production_fugitive_dehydrator_H2 = df_dehydrator_fugitive_losses['Dehydrator Fugitive Losses %'] / 100 * GWP_H2 * H2_after_separator #Loss Rate * GWP * gas rate\n",
        "# Sum the CH4 and H2 components to get the total fugitive emissions from dehydrators\n",
        "production_fugitive_dehydrator = production_fugitive_dehydrator_CH4 + production_fugitive_dehydrator_H2\n",
        "\n",
        "### Compressor fugitive losses:\n",
        "\n",
        "# Compressor fugitive loss rates\n",
        "compressor_fugitive_loss_rates = [\n",
        "    0.006438, 0.009546, 0.012612, 0.012612, 0.012981, 0.019398, 0.020913, 0.020913, 0.020913,\n",
        "    0.020913, 0.020913, 0.020913, 0.020913, 0.020913, 0.028692, 0.031455, 0.031455, 0.031455,\n",
        "    0.031455, 0.033691, 0.033691, 0.033691, 0.033691, 0.033691, 0.033691, 0.033761, 0.033761,\n",
        "    0.033761, 0.033761, 0.033761\n",
        "]\n",
        "\n",
        "# Create the DataFrame for compressor fugitive losses\n",
        "df_compressor_fugitives = pd.DataFrame({\n",
        "    'Year': range(1, len(compressor_fugitive_loss_rates) + 1),\n",
        "    'Compressor Fugitive Losses %': compressor_fugitive_loss_rates\n",
        "})\n",
        "\n",
        "# Calculate the CH4 and H2 components of fugitive emissions from compressors\n",
        "production_fugitive_compressor_CH4 = df_compressor_fugitives['Compressor Fugitive Losses %'] / 100 * GWP_CH4 * CH4_after_separator #Loss Rate * GWP * gas rate\n",
        "production_fugitive_compressor_H2 = df_compressor_fugitives['Compressor Fugitive Losses %'] / 100 * GWP_H2 * H2_after_separator #Loss Rate * GWP * gas rate\n",
        "# Sum the CH4 and H2 components to get the total fugitive emissions from compressors\n",
        "production_fugitive_compressor = production_fugitive_compressor_CH4 + production_fugitive_compressor_H2\n",
        "\n",
        "### Heater fugitive losses:\n",
        "\n",
        "# Heater fugitive loss rates\n",
        "heater_fugitive_loss_rates = [\n",
        "    0.002672, 0.003710, 0.005876, 0.005876, 0.006623, 0.007484, 0.008829, 0.008829, 0.008829,\n",
        "    0.008829, 0.008829, 0.008829, 0.008829, 0.008829, 0.010364, 0.011616, 0.011616, 0.011616,\n",
        "    0.011616, 0.016787, 0.016787, 0.016787, 0.016787, 0.016787, 0.016787, 0.016800, 0.016800,\n",
        "    0.016800, 0.016800, 0.016800\n",
        "]\n",
        "\n",
        "# Create the DataFrame for heater fugitive losses\n",
        "df_production_fugitive_heater = pd.DataFrame({\n",
        "    'Year': range(1, 31),\n",
        "    'Heater Fugitive Losses %': heater_fugitive_loss_rates\n",
        "})\n",
        "\n",
        "# Calculate the CH4 and H2 components of fugitive emissions from heaters\n",
        "production_fugitive_heater_CH4 = df_production_fugitive_heater['Heater Fugitive Losses %'] / 100 * GWP_CH4 * CH4_after_separator #Loss Rate * GWP * gas rate\n",
        "production_fugitive_heater_H2 = df_production_fugitive_heater['Heater Fugitive Losses %'] / 100 * GWP_H2 * H2_after_separator #Loss Rate * GWP * gas rate\n",
        "# Sum the CH4 and H2 components to get the total fugitive emissions from heaters\n",
        "production_fugitive_heater = production_fugitive_heater_CH4 + production_fugitive_heater_H2\n",
        "\n",
        "### Chemical Pump fugitive losses:\n",
        "\n",
        "# Chemical pumps fugitive loss rates\n",
        "chempumps_fugitive_loss_rates = [\n",
        "    0.015471, 0.024089, 0.030308, 0.030308, 0.034018, 0.048136, 0.054173, 0.054173, 0.054173,\n",
        "    0.054173, 0.054173, 0.054173, 0.054173, 0.054173, 0.068415, 0.080419, 0.080419, 0.080419,\n",
        "    0.080419, 0.094304, 0.094304, 0.094304, 0.094304, 0.094304, 0.094304, 0.094402, 0.094402,\n",
        "    0.094402, 0.094402, 0.094402\n",
        "]\n",
        "\n",
        "# Create the DataFrame for chemical pumps fugitive losses\n",
        "df_production_fugitive_chempumps = pd.DataFrame({\n",
        "    'Year': range(1, 31),\n",
        "    'Chemical Pumps Fugitive Losses %': chempumps_fugitive_loss_rates\n",
        "})\n",
        "\n",
        "# Calculate the CH4 and H2 components of fugitive emissions from chemical pumps\n",
        "production_fugitive_chempumps_CH4 = df_production_fugitive_chempumps['Chemical Pumps Fugitive Losses %'] / 100 * GWP_CH4 * CH4_after_separator #Loss Rate * GWP * gas rate\n",
        "production_fugitive_chempumps_H2 = df_production_fugitive_chempumps['Chemical Pumps Fugitive Losses %'] / 100 * GWP_H2 * H2_after_separator #Loss Rate * GWP * gas rate\n",
        "\n",
        "# Sum the CH4 and H2 components to get the total fugitive emissions from chemical pumps\n",
        "production_fugitive_chempumps = production_fugitive_chempumps_CH4 + production_fugitive_chempumps_H2\n",
        "\n",
        "# print(H2_after_separator)"
      ]
    },
    {
      "cell_type": "markdown",
      "metadata": {
        "id": "lMml5Dr5Fl9E"
      },
      "source": [
        "## 2.2.1 - Surface Processing Fugitives\n",
        "\n",
        "Fugitive emissions via surface processing are assumed to only occur as part of 'gas gathering'. This is calculated similarly as in 2.1, above, with a fractional loss rate applied to the gas production rate at the relevant point in the process flow."
      ]
    },
    {
      "cell_type": "code",
      "execution_count": 9,
      "metadata": {
        "colab": {
          "base_uri": "https://localhost:8080/"
        },
        "id": "J9w_OlW2Ks6b",
        "outputId": "ca492bc0-17e4-4186-de95-e273d5db11e9"
      },
      "outputs": [
        {
          "name": "stdout",
          "output_type": "stream",
          "text": [
            "0     1.996822\n",
            "1     1.397775\n",
            "2     1.118220\n",
            "3     0.950487\n",
            "4     0.831676\n",
            "5     0.727717\n",
            "6     0.654945\n",
            "7     0.589450\n",
            "8     0.536400\n",
            "9     0.493488\n",
            "10    0.458944\n",
            "11    0.426818\n",
            "12    0.401209\n",
            "13    0.381148\n",
            "14    0.365902\n",
            "15    0.351266\n",
            "16    0.340728\n",
            "17    0.330506\n",
            "18    0.320591\n",
            "19    0.310973\n",
            "20    0.301644\n",
            "21    0.292595\n",
            "22    0.286743\n",
            "23    0.281008\n",
            "24    0.272578\n",
            "25    0.267126\n",
            "26    0.261784\n",
            "27    0.256548\n",
            "28    0.251417\n",
            "29    0.246389\n",
            "Name: Baseline GOR, SCF/BBL, dtype: float64\n"
          ]
        }
      ],
      "source": [
        "gas_gathering_fugitive_rate = 0.00495897945648821 #Taken from OPGEE model. Does not vary with production rate.\n",
        "\n",
        "gas_gathering_fugitive_CH4 = gas_gathering_fugitive_rate * GWP_CH4 * CH4_after_separator\n",
        "gas_gathering_fugitive_H2 = gas_gathering_fugitive_rate * GWP_H2 * H2_after_separator\n",
        "gas_gathering_fugitives = gas_gathering_fugitive_CH4 + gas_gathering_fugitive_H2\n",
        "\n",
        "print(gas_gathering_fugitives)"
      ]
    },
    {
      "cell_type": "markdown",
      "metadata": {
        "id": "gaKTZbtSFfie"
      },
      "source": [
        "## 2.2.2 - Surface Processing Venting\n",
        "\n",
        "Vented emissions through surface processing are assumed to only occur as part of gas dehydration (i.e. the glycol unit).\n",
        "\n"
      ]
    },
    {
      "cell_type": "code",
      "execution_count": 10,
      "metadata": {
        "colab": {
          "base_uri": "https://localhost:8080/"
        },
        "id": "Sj29CDPgFlmC",
        "outputId": "a328c77a-def1-40db-c0c4-8775caf783c8"
      },
      "outputs": [],
      "source": [
        "#First calculate the gas flow rates downstream of gas gathering (i.e. upstream of dehydration)\n",
        "CH4_after_gas_gathering = CH4_after_separator - gas_gathering_fugitive_CH4/GWP_CH4\n",
        "H2_after_gas_gathering = H2_after_separator - gas_gathering_fugitive_H2/GWP_H2\n",
        "\n",
        "gas_dehydration_vent_rate = 0.000810912362269712 #Taken from OPGEE model. Does not vary with production rate.\n",
        "\n",
        "gas_dehydration_vent_CH4 = gas_dehydration_vent_rate * GWP_CH4 * CH4_after_gas_gathering\n",
        "gas_dehydration_vent_H2 = gas_dehydration_vent_rate * GWP_H2 * H2_after_gas_gathering\n",
        "gas_dehydration_vents = gas_dehydration_vent_CH4 + gas_dehydration_vent_H2\n",
        "\n",
        "# print(gas_dehydration_vents)"
      ]
    },
    {
      "cell_type": "code",
      "execution_count": 11,
      "metadata": {
        "id": "jZGFg3rLZ_QH"
      },
      "outputs": [],
      "source": [
        "#For later use, now calculate the gas flows remaining downstream of the dehydration system:\n",
        "\n",
        "CH4_after_dehy = CH4_after_gas_gathering - gas_dehydration_vent_CH4/GWP_CH4\n",
        "H2_after_dehy = H2_after_gas_gathering - gas_dehydration_vent_H2/GWP_H2"
      ]
    },
    {
      "cell_type": "markdown",
      "metadata": {
        "id": "zz-7nSIUeBDc"
      },
      "source": [
        "## 2.3 HC gas reinjection compressor\n",
        "\n",
        "The Brandt paper assumes that non-H2 captured waste streams are compressed and re-injected into the subsurface. This factor estimates the amount of fugitive emissions through the compressor sub-system.\n",
        "\n"
      ]
    },
    {
      "cell_type": "code",
      "execution_count": 12,
      "metadata": {
        "id": "h-h8zRXLefgg"
      },
      "outputs": [],
      "source": [
        "#Contribution is small, so for the time being just take the number from the OPGEE model directly.\n",
        "HC_gas_reinjection_compressor_fugitives = 0.00743937294627298 #tCO2eq/d"
      ]
    },
    {
      "cell_type": "markdown",
      "metadata": {
        "id": "_t6yWOKKeey5"
      },
      "source": [
        "## 2.4 HC gas injection wells\n",
        "\n",
        "Paper assumes certain amount of fugitive emissions downstream of the reinjection compressors, at the injection wells."
      ]
    },
    {
      "cell_type": "code",
      "execution_count": 13,
      "metadata": {
        "id": "IqFlhBD4ehAL"
      },
      "outputs": [],
      "source": [
        "#Contribution is small, so for the time being just take the number from the OPGEE model directly.\n",
        "HC_gas_reinjection_well_fugitives = 0.0813978368107571 #tCO2eq/d"
      ]
    },
    {
      "cell_type": "markdown",
      "metadata": {
        "id": "artDYyc7ehjW"
      },
      "source": [
        "## 2.5 Separation"
      ]
    },
    {
      "cell_type": "code",
      "execution_count": 37,
      "metadata": {
        "id": "X60anYuGei_i"
      },
      "outputs": [],
      "source": [
        "# Separation fugitive loss rates\n",
        "separation_fugitive_loss_rates = [\n",
        "    0.00061497, 0.000923162, 0.001252111, 0.001252111, 0.001281899,\n",
        "    0.001694345, 0.001873018, 0.001873018, 0.001873018, 0.001873018,\n",
        "    0.001873018, 0.001873018, 0.001873018, 0.001873018, 0.002178708,\n",
        "    0.002287947, 0.002287947, 0.002287947, 0.002287947, 0.002862778,\n",
        "    0.002862778, 0.002862778, 0.002862778, 0.002862778, 0.002862778,\n",
        "    0.002867841, 0.002867841, 0.002867841, 0.002867841, 0.002867841\n",
        "]\n",
        "\n",
        "# Create the DataFrame for separation fugitive losses\n",
        "df_separation_fugitive = pd.DataFrame({\n",
        "    'Year': range(1, 31),\n",
        "    'Separation Fugitive Losses %': separation_fugitive_loss_rates\n",
        "})\n",
        "\n",
        "# Calculate CH4 and H2 fugitive emissions and their total\n",
        "production_separation_fugitive_CH4 = df_separation_fugitive['Separation Fugitive Losses %'] * GWP_CH4 * CH4_after_separator #Possibly factor of 100 out, due to conversion from percentage?\n",
        "production_separation_fugitive_H2 = df_separation_fugitive['Separation Fugitive Losses %']  * GWP_H2 * H2_after_separator #Possibly factor of 100 out, due to conversion from percentage?\n",
        "production_separation_fugitives = production_separation_fugitive_CH4 + production_separation_fugitive_H2\n",
        "\n",
        "#Now calculate losses for N2 and CO2, which are not considered in the above calculations:\n",
        "N2_separation_losses = df_separation_fugitive['Separation Fugitive Losses %'] * N2_after_separator #Possibly factor of 100 out, due to conversion from percentage?\n",
        "CO2_separation_losses = df_separation_fugitive['Separation Fugitive Losses %'] * CO2_after_separator #Possibly factor of 100 out, due to conversion from percentage?\n",
        "\n",
        "# print(production_separation_fugitives)"
      ]
    },
    {
      "cell_type": "markdown",
      "metadata": {
        "id": "V1fcc2M2Zh_C"
      },
      "source": [
        "##2.X Total operational VFF emissions\n",
        "This is the sum total of the calculations in Sections 2.1 and 2.2, above.\n"
      ]
    },
    {
      "cell_type": "code",
      "execution_count": 15,
      "metadata": {
        "id": "6oXhKudhZtmh"
      },
      "outputs": [],
      "source": [
        "total_operational_VFF_emissions = (\n",
        "    production_vent_completions +\n",
        "    production_vent_workovers +\n",
        "    production_vent_liquids +\n",
        "    production_fugitive_wellhead +\n",
        "    production_fugitive_meter +\n",
        "    production_fugitive_dehydrator +\n",
        "    production_fugitive_compressor +\n",
        "    production_fugitive_heater +\n",
        "    production_fugitive_chempumps +\n",
        "    gas_gathering_fugitives +\n",
        "    gas_dehydration_vents +\n",
        "    HC_gas_reinjection_compressor_fugitives +\n",
        "    HC_gas_reinjection_well_fugitives +\n",
        "    production_separation_fugitives\n",
        ") *1000\n",
        "\n",
        "# print(total_operational_VFF_emissions)\n",
        "\n",
        "# print(production_vent_completions +\n",
        "#     production_vent_workovers +\n",
        "#     production_vent_liquids +\n",
        "#     production_fugitive_wellhead +\n",
        "#     production_fugitive_meter +\n",
        "#     production_fugitive_dehydrator +\n",
        "#     production_fugitive_compressor +\n",
        "#     production_fugitive_heater +\n",
        "#     production_fugitive_chempumps +\n",
        "#     gas_gathering_fugitives +\n",
        "#     gas_dehydration_vents +\n",
        "#     HC_gas_reinjection_compressor_fugitives +\n",
        "#     HC_gas_reinjection_well_fugitives +\n",
        "#     production_separation_fugitives\n",
        "# )"
      ]
    },
    {
      "cell_type": "markdown",
      "metadata": {
        "id": "rLpWo_olx5de"
      },
      "source": [
        "# 3. Drilling Energy-Use & VFF\n",
        "\n",
        "Brandt's OPGEE analysis combines estimates of emissions from exploration activities together with drilling & development activities. The source of these emissions is assumed to be limited to the running of diesel engines required to complete these activities."
      ]
    },
    {
      "cell_type": "markdown",
      "metadata": {
        "id": "o3yssQ4sdMf8"
      },
      "source": [
        "## 3.1 Exploration\n",
        "\n",
        "Brandt's paper assumes that the only emissions associated with exploration is combustion in diesel engines. He estimates the energy consumption from survey vehicles (assumed to be heavy duty trucks for onshore assets), the expected emissions from drilling activities, and then calculates a ratio of expected total energy consumption from these two sources to the expected total energy produced from the the H2 in the field (\"Fractional Energy Consumption\").\n",
        "\n",
        "Separately, the daily production rate of the asset (in energy terms) is calculated (i.e. H2 leaving the PSA unit). Daily energy consumed burning diesel is thus the Fractional Energy Consumption ratio multiplied by the daily production rate. Daily energy consumption is converted to daily emissions by multiplying by an 'emissions factor' for heavy duty trucks.\n",
        "\n",
        "Emissions factor is taken from GREET 1_2016, sheet 'EF', Table 2.2 and 2.3, \"Emission Factors of Fuel Combustion: Feedstock and Fuel Transportation from Product Origin to Product Destination back to Poduct Origin (grams per mmbtu of fuel burned)\"."
      ]
    },
    {
      "cell_type": "code",
      "execution_count": 52,
      "metadata": {
        "id": "cjwaJ0O0J0uR"
      },
      "outputs": [
        {
          "name": "stdout",
          "output_type": "stream",
          "text": [
            "63\n",
            "0     0.008977\n",
            "1     0.008977\n",
            "2     0.008977\n",
            "3     0.008977\n",
            "4     0.008977\n",
            "5     0.008977\n",
            "6     0.008977\n",
            "7     0.008977\n",
            "8     0.008977\n",
            "9     0.008977\n",
            "10    0.008977\n",
            "11    0.008977\n",
            "12    0.008977\n",
            "13    0.008977\n",
            "14    0.008977\n",
            "15    0.008977\n",
            "16    0.008977\n",
            "17    0.008977\n",
            "18    0.008977\n",
            "19    0.008977\n",
            "20    0.008977\n",
            "21    0.008977\n",
            "22    0.008977\n",
            "23    0.008977\n",
            "24    0.008977\n",
            "25    0.008977\n",
            "26    0.008977\n",
            "27    0.008977\n",
            "28    0.008977\n",
            "29    0.008977\n",
            "Name: Baseline GOR, SCF/BBL, dtype: float64\n"
          ]
        }
      ],
      "source": [
        "#First define factors needed in the subsequent calculations\n",
        "heavy_duty_truck_diesel_intensity = 969 #btu LHV/ton mi (Paper does not cite source of this figure)\n",
        "weight_land_survey = 25 #tonnes. Weight of land survey vehicle. Default assumption of OPGEE model.\n",
        "distance_survey = 10000 #miles. Distance of travel for survey. Default assumption of OPGEE model. \"Estimate accounting for long-distance travel of specialized equipment\"\n",
        "emissions_factor_trucks = 78908.518237706 #gCO2eq./mmbtu. OPGEE quoting GREET.\n",
        "emissions_factor_diesel_exploration = 78823.3589186562 #g GHGs/mmbtu LHV. OPGEE quoting GREET, but using the values for \"Barge diesel\" rather than \"Truck Diesel\". It is unclear to me why this is the case.\n",
        "emissions_factor_diesel_drilling = 78490.5078472298 #g GHGs/mmbtu LHV. OPGEE quoting GREET, but using the values for \"Barge diesel\" rather than \"Truck Diesel\". It is unclear to me why this is the case.\n",
        "\n",
        "#Pre-production Wells:\n",
        "number_dry_wells = 1 #Number of dry wells drilled per discovered field.\n",
        "number_exploration_wells = 3 #Number of exploratory/scientific wells drilled after discovery of the field.\n",
        "diesel_energy_density = 128450 #LHV btu/gal. Source: GREET1_2016, obtained from \"Fuel_Specs\" worksheet.\n",
        "\n",
        "#Production Wells:\n",
        "number_production_wells = 50 #Key assumption\n",
        "number_injection_wells = math.ceil(0.25*number_production_wells) #Assumption. Rounding up, as you can't drill a fraction of a well.\n",
        "total_number_wells = number_production_wells + number_injection_wells\n",
        "print(total_number_wells)\n",
        "field_depth = depths['Baseline']\n",
        "drilling_fuel_per_foot_vertical = 0.325964356060972 #gal diesel fuel/ft. This figure taken direct from OPGEE model and assumes Moderate complexity wells drilled at Medium efficiency.\n",
        "\n",
        "drilling_diesel_consumption = drilling_fuel_per_foot_vertical * field_depth * total_number_wells #Brandt paper assumes all wells are vertical, so can ignore calcs relating to horizontal drilling.\n",
        "drilling_energy_consumption_by_field = drilling_diesel_consumption * diesel_energy_density/1E6 #mmbtu LHV\n",
        "\n",
        "energy_intensity_per_well = drilling_energy_consumption_by_field / total_number_wells\n",
        "\n",
        "survey_vehicle_energy_consumption = heavy_duty_truck_diesel_intensity * weight_land_survey * distance_survey / 1E6\n",
        "drilling_energy_consumption = (number_dry_wells + number_exploration_wells) * energy_intensity_per_well\n",
        "\n",
        "daily_field_H2_exported = H2_after_dehy * 0.9 #tonnes/day. It is assumed that 10% of H2 entering the PSA unit is lost.\n",
        "\n",
        "daily_energy_from_produced_oil = 0.475092430879946 #mmBTU/day. This is the energy content of the oil produced, as calculated in the OPGEE model.\n",
        "\n",
        "daily_field_energy_exported = daily_field_H2_exported * LHV_H2 + daily_energy_from_produced_oil  #mmbtu/day. Energy exported is just the H2 that leaves the processing facility, i.e. Mass * heating value.\n",
        "\n",
        "lifetime_field_energy_production = daily_field_energy_exported * 365 * field_lifespan\n",
        "\n",
        "#Now calculate the fraction of energy spent while exploring to the total saleable energy exported from the asset:\n",
        "fractional_energy_consumption = (survey_vehicle_energy_consumption + drilling_energy_consumption) / lifetime_field_energy_production\n",
        "\n",
        "#The rate of GHG emissions per unit of energy produced is thus:\n",
        "exploration_GHG_emission_rate = fractional_energy_consumption * emissions_factor_trucks #gCO2 eq./mmbtu crude\n",
        "\n",
        "#Next, the equivalent daily energy use is the fractional rate of energy consumption multiplied by the daily energy production:\n",
        "exploration_daily_energy_use = fractional_energy_consumption * daily_field_energy_exported\n",
        "\n",
        "#Finally, the emissions attributed to exploration is the daily energy use, multiplied by the relevant emissions factor:\n",
        "exploration_emissions = exploration_daily_energy_use * emissions_factor_diesel_exploration / 1E6 #tCO2eq/d\n",
        "\n",
        "print(exploration_emissions)"
      ]
    },
    {
      "cell_type": "markdown",
      "metadata": {
        "id": "JrhFLfpVuomu"
      },
      "source": [
        "## 3.2 Drilling & Development\n",
        "\n",
        "This section takes a very similar approach to Section 3.1. It estimates the energy required (in the from of diesel) to develop the field (i.e. drill 50x production wells plus 13 injection wells) and then uses an emissions factor to convert this energy consumption into GHG emissions. "
      ]
    },
    {
      "cell_type": "code",
      "execution_count": 55,
      "metadata": {
        "id": "_qRkgF1duuJZ"
      },
      "outputs": [],
      "source": [
        "#First calculate the total development energy for the entire field. There is no fracturing, so the only energy use is in drilling the wells.\n",
        "#First step of this calculation is to estimate the drilling fuel consumption:\n",
        "\n",
        "development_drilling_fuel_consumption = drilling_fuel_per_foot_vertical * field_depth * total_number_wells\n",
        "#Next, calculate the energy content of this fuel:\n",
        "development_drilling_energy_consumption = development_drilling_fuel_consumption * diesel_energy_density / 1E6 #mmbtu LHV\n",
        "#Next, calculate the wellhead energy production of the field. This is comprised of energy of gas at the wellhead, plus the energy content of oil at the wellhead:\n",
        "#Need to calculate the mass of gas at the wellhead. This is derived by adding the losses during separation to the flows out of the separation unit\n",
        "CH4_upstream_separator = CH4_after_separator + production_separation_fugitive_CH4/GWP_CH4\n",
        "H2_upstream_separator = H2_after_separator + production_separation_fugitive_H2/GWP_H2\n",
        "N2_upstream_separator = N2_after_separator + N2_separation_losses\n",
        "CO2_upstream_separator = CO2_after_separator + CO2_separation_losses\n",
        "total_gas_mass_flow_upstream_separator = CH4_upstream_separator + H2_upstream_separator + N2_upstream_separator + CO2_upstream_separator\n",
        "\n",
        "#Now determine the energy density of the gas produced. This is a weighted average of the energy densities of the individual gases, weighted by their mass fractions.\n",
        "gas_energy_density = (CH4_upstream_separator * LHV_density_gases_metric.loc['CH4','LHV (MJ/kg)'] + H2_upstream_separator * LHV_density_gases_metric.loc['H2','LHV (MJ/kg)'] + N2_upstream_separator * LHV_density_gases_metric.loc['N2','LHV (MJ/kg)'] + CO2_upstream_separator * LHV_density_gases_metric.loc['CO2','LHV (MJ/kg)']) / total_gas_mass_flow_upstream_separator\n",
        "wellhead_gas_energy = total_gas_mass_flow_upstream_separator * 1000 * gas_energy_density / 1055.05 #mmbtu/day. This is the energy content of the gas produced, as calculated in the OPGEE model.\n",
        "wellhead_oil_energy = 0.517752042726451 #mmbtu/day. This is the energy content of the oil produced, as calculated in the OPGEE model.\n",
        "wellhead_total_energy = wellhead_gas_energy + wellhead_oil_energy\n",
        "\n",
        "#Now calculate the energy use as a fraction of the total energy produced and convert to emissions:\n",
        "development_drilling_energy = development_drilling_energy_consumption * wellhead_total_energy / lifetime_field_energy_production\n",
        "development_drilling_emissions = development_drilling_energy * emissions_factor_diesel_drilling / 1E6 #tCO2eq/d\n",
        "# print(development_drilling_emissions)\n",
        "\n"
      ]
    },
    {
      "cell_type": "markdown",
      "metadata": {
        "id": "FcQ_5Bz2yBgq"
      },
      "source": [
        "# 4. Embodied Emissions\n",
        "\n",
        "Embodied emissions are those emmisions associated with the production of the physical equipment that is installed to enable production of the geologic H2. Given the assumption of no fracturing of wells, the relevant material categories are as follows:\n",
        "\n",
        "![image.png](data:image/png;base64,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)\n",
        "\n",
        "These will be considered in the following sections."
      ]
    },
    {
      "cell_type": "markdown",
      "metadata": {
        "id": "BcdcIopiv62Q"
      },
      "source": [
        "## 4.1 Emissions from steel\n",
        "\n",
        "Steel is used in several parts of the assumed development:\n",
        "* Wellbore Construction (both for production and injection wells)\n",
        "* Production & Surface Processing Facilities\n",
        "* Ancilliary Structures (i.e. Tanks)\n",
        "* Export Pipelines\n",
        "* Gathering System Piping"
      ]
    },
    {
      "attachments": {
        "image-2.png": {
          "image/png": "[encoded data removed]"
        },
        "image.png": {
          "image/png": "[encoded data removed]"
        }
      },
      "cell_type": "markdown",
      "metadata": {},
      "source": [
        "### 4.1.1 Wellbore Construction Steel Emissions\n",
        "\n",
        "OPGEE model parameterises well construction. In the absense of more specific design details, it defaults to 'moderate' assumptions, as shown below:\n",
        "\n",
        "![image.png](attachment:image.png)\n",
        "\n",
        "High-level casing design of the moderate well is as per image below. OPGEE quotes the source of this design as: Nguyen, J.P. Drilling (1996) Oil and Gas Field Development Techniques, p. 37 for Parentis oil field, modified to recognize OPGEE default.\n",
        "\n",
        "![image-2.png](attachment:image-2.png)\n",
        "\n",
        "The OPGEE model then uses assumed masses of steel per unit length of casing and production tubing to ultimately calculate a total mass of steel per well."
      ]
    },
    {
      "cell_type": "code",
      "execution_count": 64,
      "metadata": {
        "id": "1m89_uW-wMAP"
      },
      "outputs": [
        {
          "name": "stdout",
          "output_type": "stream",
          "text": [
            "Production well total Mass: 12365000.0 lb\n"
          ]
        }
      ],
      "source": [
        "#First calculate the steel requirements for the 50x production wells:\n",
        "\n",
        "conductor_diameter = 20 #in \n",
        "conductor_length = 50 #ft\n",
        "surface_casing_diameter = 11.75 #in\n",
        "surface_casing_length = 1000 #ft\n",
        "production_casing_diameter = 7 #in\n",
        "production_casing_length = 6000 #ft\n",
        "production_tubing_diameter = 2.375 #in\n",
        "production_tubing_length = 6000 #ft\n",
        "\n",
        "# Create dataframes for casing and tubing mass data\n",
        "casing_mass_lookup_data = {\n",
        "    'Outside Diameter (in)': [\n",
        "        4.500, 5.000, 5.500, 6.625, 7.000, 7.625, 8.625, 9.625, \n",
        "        10.750, 11.750, 13.375, 16.000, 18.625, 20.000, 30.000\n",
        "    ],\n",
        "    'Steel Casing Mass per Unit Length (lb/ft)': [\n",
        "        11.28, 14.38, 17.08, 13.25, 27.50, 28.80, 36.14, 40.23,\n",
        "        50.12, 48.20, 60.70, 77.60, 87.50, 94.00, 168.06\n",
        "    ]\n",
        "}\n",
        "casing_mass_lookup = pd.DataFrame(casing_mass_lookup_data)\n",
        "casing_mass_lookup.set_index('Outside Diameter (in)', inplace=True)\n",
        "\n",
        "tubing_mass_lookup_data = {\n",
        "    'Nominal Diameter (in)': [0.750, 1.000, 1.250, 1.500, 2.375, 2.875, 3.500, 4.000, 4.500],\n",
        "    'Tubing Mass per Unit Length (lb/ft)': [1.14, 1.70, 2.30, 2.75, 4.90, 7.50, 10.20, 9.50, 12.60]\n",
        "}\n",
        "tubing_mass_lookup = pd.DataFrame(tubing_mass_lookup_data)\n",
        "tubing_mass_lookup.set_index('Nominal Diameter (in)', inplace=True)\n",
        "\n",
        "# Function to calculate mass of casing or tubing\n",
        "def calculate_casing_or_tubing_mass(diameter, length, lookup_df):\n",
        "    try:\n",
        "        # Access the mass per unit length directly using the index and extracting the scalar value\n",
        "        mass_per_unit_length = lookup_df.loc[diameter, lookup_df.columns[0]]\n",
        "        # Calculate the total mass\n",
        "        total_mass = mass_per_unit_length * length\n",
        "        return total_mass\n",
        "    except KeyError:\n",
        "        return 0  # Return 0 if the diameter is not found\n",
        "\n",
        "# Example usage\n",
        "conductor_mass = calculate_casing_or_tubing_mass(conductor_diameter, conductor_length, casing_mass_lookup)\n",
        "surface_casing_mass = calculate_casing_or_tubing_mass(surface_casing_diameter,surface_casing_length, casing_mass_lookup)\n",
        "production_casing_mass = calculate_casing_or_tubing_mass(production_casing_diameter, production_casing_length, casing_mass_lookup)\n",
        "production_tubing_mass = calculate_casing_or_tubing_mass(production_tubing_diameter, production_tubing_length, tubing_mass_lookup)\n",
        "\n",
        "# Sum up total mass for the production wells\n",
        "production_well_steel_mass = (conductor_mass + surface_casing_mass + production_casing_mass + production_tubing_mass) * 50\n",
        "print(\"Production well total Mass:\", production_well_steel_mass, \"lb\")\n"
      ]
    },
    {
      "cell_type": "markdown",
      "metadata": {},
      "source": [
        "### 4.1.2 Production & Surface Processing Facilities Steel Emissions"
      ]
    },
    {
      "cell_type": "markdown",
      "metadata": {},
      "source": []
    },
    {
      "cell_type": "markdown",
      "metadata": {},
      "source": [
        "### 4.1.3 Ancilliary Structures Steel Emissions"
      ]
    },
    {
      "cell_type": "code",
      "execution_count": null,
      "metadata": {},
      "outputs": [],
      "source": []
    },
    {
      "cell_type": "markdown",
      "metadata": {},
      "source": [
        "### 4.1.4 Export Pipelines Steel Emissions"
      ]
    },
    {
      "cell_type": "code",
      "execution_count": null,
      "metadata": {},
      "outputs": [],
      "source": []
    },
    {
      "cell_type": "markdown",
      "metadata": {},
      "source": [
        "### 4.1.5 Gathering System Piping Steel Emissions"
      ]
    },
    {
      "cell_type": "code",
      "execution_count": null,
      "metadata": {},
      "outputs": [],
      "source": []
    },
    {
      "cell_type": "markdown",
      "metadata": {
        "id": "0VhxXzYpwASH"
      },
      "source": [
        "## 4.2 Emissions from cement\n",
        "\n",
        "Cement is used in several parts of the assumed development/facilities, including:\n",
        "\n",
        "* Production & Injection Wells\n",
        "* Wellbore Plugs (at Field Abandonment)"
      ]
    },
    {
      "cell_type": "markdown",
      "metadata": {},
      "source": [
        "### 4.2.1 Production & Injection Well Cement Emissions"
      ]
    },
    {
      "cell_type": "code",
      "execution_count": null,
      "metadata": {
        "id": "OHVXhkGxwMrK"
      },
      "outputs": [],
      "source": []
    },
    {
      "cell_type": "markdown",
      "metadata": {},
      "source": [
        "### 4.2.2 Wellbore Plug Cement Emissions"
      ]
    },
    {
      "cell_type": "code",
      "execution_count": null,
      "metadata": {},
      "outputs": [],
      "source": []
    },
    {
      "cell_type": "markdown",
      "metadata": {
        "id": "b2yox_FBwCRz"
      },
      "source": [
        "## 4.3 Emissions from drilling mud"
      ]
    },
    {
      "cell_type": "code",
      "execution_count": null,
      "metadata": {
        "id": "FYDy17Z7wNWI"
      },
      "outputs": [],
      "source": []
    },
    {
      "cell_type": "markdown",
      "metadata": {
        "id": "1KJ209wewHjU"
      },
      "source": [
        "## 4.4 Emissions from transporting materials"
      ]
    },
    {
      "cell_type": "code",
      "execution_count": null,
      "metadata": {
        "id": "Ra_lsTWPwOV1"
      },
      "outputs": [],
      "source": []
    },
    {
      "cell_type": "markdown",
      "metadata": {
        "id": "OPHLJlI1yG-q"
      },
      "source": [
        "# 5. \"Other\" Offsite Emissions"
      ]
    },
    {
      "cell_type": "markdown",
      "metadata": {
        "id": "IOt9c9OHyMMb"
      },
      "source": [
        "# 6. Small Sources of Emissions"
      ]
    },
    {
      "cell_type": "code",
      "execution_count": null,
      "metadata": {
        "id": "0y67k1kAo5Tg"
      },
      "outputs": [],
      "source": []
    },
    {
      "cell_type": "code",
      "execution_count": null,
      "metadata": {
        "id": "1klstTn-nvgP"
      },
      "outputs": [],
      "source": []
    },
    {
      "cell_type": "code",
      "execution_count": null,
      "metadata": {},
      "outputs": [],
      "source": []
    }
  ],
  "metadata": {
    "colab": {
      "authorship_tag": "ABX9TyOVU5OolI1TaHSH3EDF3AOK",
      "include_colab_link": true,
      "provenance": []
    },
    "kernelspec": {
      "display_name": "Python 3",
      "name": "python3"
    },
    "language_info": {
      "codemirror_mode": {
        "name": "ipython",
        "version": 3
      },
      "file_extension": ".py",
      "mimetype": "text/x-python",
      "name": "python",
      "nbconvert_exporter": "python",
      "pygments_lexer": "ipython3",
      "version": "3.11.4"
    }
  },
  "nbformat": 4,
  "nbformat_minor": 0
}
